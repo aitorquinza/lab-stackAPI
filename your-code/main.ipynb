{
 "cells": [
  {
   "cell_type": "markdown",
   "metadata": {},
   "source": [
    "# StackAPI\n",
    "\n",
    "#### Import the necessary libraries here:"
   ]
  },
  {
   "cell_type": "code",
   "execution_count": 2,
   "metadata": {},
   "outputs": [],
   "source": [
    "# your code here\n",
    "import requests\n",
    "import json\n",
    "from stackapi import StackAPI\n",
    "\n",
    "# Define Stackoverflow\n",
    "SITE = StackAPI('stackoverflow')\n",
    "SITE.page_size = 10\n",
    "SITE.max_pages = 10"
   ]
  },
  {
   "cell_type": "markdown",
   "metadata": {},
   "source": [
    "#### Question 1: Find the questions and answers of last month."
   ]
  },
  {
   "cell_type": "code",
   "execution_count": 25,
   "metadata": {},
   "outputs": [
    {
     "data": {
      "text/plain": [
       "['What causes [*a] to overallocate?',\n",
       " 'Why have i++; i--; right after each other?',\n",
       " 'Why cast free&#39;s return value to void?',\n",
       " 'What is the need of empty braces &#39;{ }&#39; at the end of array of structs?',\n",
       " 'Absolute value abs(x) using bitwise operators and Boolean logic',\n",
       " 'Could not find plugin &quot;proposal-numeric-separator&quot;',\n",
       " 'Xcode 11.4. Navigation&#39;s Title Color gone BLACK from storyboard',\n",
       " 'Why does javac allow some impossible casts and not others?',\n",
       " 'Is it normal that I see other&#39;s Redis data on shared hosting?',\n",
       " 'How to initialize C++17 vector of pairs with optional element',\n",
       " 'Weird behaviour with class fields when adding to a std::vector',\n",
       " 'Should you assert not null with the assert statement in production code?',\n",
       " 'What is the correct way to convert 2 bytes to a signed 16-bit integer?',\n",
       " 'What is the difference between &lt;? extends Base&gt; and &lt;T extends Base&gt;?',\n",
       " 'Why is std::hash not guaranteed to be deterministic?',\n",
       " 'Why is compilation OK, when I use Invoke method, and not OK when I return Func&lt;int,int&gt; directly?',\n",
       " 'How can I avoid repeating code initializing a hashmap of hashmap?',\n",
       " 'Is it possible for a missing #include to break the program at runtime?',\n",
       " 'what is the usecase for explicit (bool)',\n",
       " 'CocoaPods could not find compatible versions for pod &quot;ReactCommon/jscallinvoker&quot;:',\n",
       " 'Auto-unboxing need of ternary if-else',\n",
       " 'If-directive macro comparison',\n",
       " 'Faster divisibility test than % operator?',\n",
       " 'Do modern GHC versions have any kind of proof erasure?',\n",
       " 'Behavior difference of lambda function mutable capture from a reference to global variable',\n",
       " 'Why is a JavaScript reserved keyword allowed as a variable name?',\n",
       " 'Why does the Count() method use the &quot;checked&quot; keyword?',\n",
       " 'Why does {} as function argument not lead to ambiguity?',\n",
       " 'Split a given std::variant type by a given criteria']"
      ]
     },
     "execution_count": 25,
     "metadata": {},
     "output_type": "execute_result"
    }
   ],
   "source": [
    "# Fetch questions last month\n",
    "questions = SITE.fetch('questions', fromdate=1583060400, todate=1585648800,\n",
    "    min=20, sort='votes')\n",
    "\n",
    "    \n",
    "questionsTitle = [i['title'] for i in questions['items']]\n",
    "questionsTitle"
   ]
  },
  {
   "cell_type": "code",
   "execution_count": 27,
   "metadata": {},
   "outputs": [
    {
     "data": {
      "text/plain": [
       "[60632848,\n",
       " 60713126,\n",
       " 60880996,\n",
       " 60524615,\n",
       " 60520726,\n",
       " 60854445,\n",
       " 60682012,\n",
       " 60737683,\n",
       " 60743305,\n",
       " 60728130,\n",
       " 60503869,\n",
       " 60946721,\n",
       " 60490863,\n",
       " 60595883,\n",
       " 60845267,\n",
       " 60843429,\n",
       " 60688119,\n",
       " 60502833,\n",
       " 60858634,\n",
       " 60886666,\n",
       " 60498843,\n",
       " 60779204,\n",
       " 60793671,\n",
       " 60944296,\n",
       " 60549140,\n",
       " 60934755,\n",
       " 60919479,\n",
       " 60773724,\n",
       " 60879927,\n",
       " 60918424,\n",
       " 60909074,\n",
       " 60923338,\n",
       " 60689016,\n",
       " 60704777,\n",
       " 60837606,\n",
       " 60937478,\n",
       " 60685341,\n",
       " 60636703,\n",
       " 60623281,\n",
       " 60855052,\n",
       " 60625178,\n",
       " 60487107,\n",
       " 60778186,\n",
       " 60737494,\n",
       " 60868156,\n",
       " 60944592,\n",
       " 60926492,\n",
       " 60872181,\n",
       " 60856723,\n",
       " 60806862,\n",
       " 60591083,\n",
       " 60830921,\n",
       " 60650480,\n",
       " 60507518,\n",
       " 60921025,\n",
       " 60574005,\n",
       " 60835220,\n",
       " 60814762,\n",
       " 60823265,\n",
       " 60823478,\n",
       " 60500279,\n",
       " 60886065,\n",
       " 60565001,\n",
       " 60938100,\n",
       " 60867826,\n",
       " 60930786,\n",
       " 60562618,\n",
       " 60483984,\n",
       " 60647172,\n",
       " 60853748,\n",
       " 60840975,\n",
       " 60596405,\n",
       " 60858437,\n",
       " 60942198,\n",
       " 60869850,\n",
       " 60905772,\n",
       " 60855842,\n",
       " 60918042,\n",
       " 60591460,\n",
       " 60942212,\n",
       " 60783719,\n",
       " 60536863,\n",
       " 60663461,\n",
       " 60926309,\n",
       " 60879393,\n",
       " 60642521,\n",
       " 60745910,\n",
       " 60708579,\n",
       " 60920435,\n",
       " 60539818,\n",
       " 60920873,\n",
       " 60920943,\n",
       " 60946999,\n",
       " 60882536,\n",
       " 60845808,\n",
       " 60881346,\n",
       " 60912567,\n",
       " 60754612,\n",
       " 60700064,\n",
       " 60804962]"
      ]
     },
     "execution_count": 27,
     "metadata": {},
     "output_type": "execute_result"
    }
   ],
   "source": [
    "# Fetch answers last month\n",
    "answers = SITE.fetch('answers', fromdate=1583060400, todate=1585648800)\n",
    "\n",
    "answersId = [i['answer_id'] for i in answers['items']]\n",
    "answersId"
   ]
  },
  {
   "cell_type": "markdown",
   "metadata": {},
   "source": [
    "#### Question 2: Find the most voted question today with at least a score of 5 and tagged with 'python'. "
   ]
  },
  {
   "cell_type": "code",
   "execution_count": 29,
   "metadata": {},
   "outputs": [
    {
     "data": {
      "text/plain": [
       "['Why do I get this many iterations when adding to and removing from a set while iterating over it?',\n",
       " 'Applying built-in and custom created functions on dataset',\n",
       " 'How to trigger function inside class more effectively?',\n",
       " 'Typechecking dynamically added attributes']"
      ]
     },
     "execution_count": 29,
     "metadata": {},
     "output_type": "execute_result"
    }
   ],
   "source": [
    "# your code here\n",
    "now = 1586955514\n",
    "topQuestion = SITE.fetch('questions', fromdate=1586822460, todate=now,\n",
    "    min=5, tagged='python', sort='votes')\n",
    "\n",
    "topQuestionTitle = [i['title'] for i in topQuestion['items']]\n",
    "topQuestionTitle"
   ]
  },
  {
   "cell_type": "markdown",
   "metadata": {},
   "source": [
    "#### Question 3: Find the answers with id 6784 and 6473."
   ]
  },
  {
   "cell_type": "code",
   "execution_count": 47,
   "metadata": {},
   "outputs": [
    {
     "name": "stdout",
     "output_type": "stream",
     "text": [
      "The answer replies this question: https://stackoverflow.com/questions/6778\n"
     ]
    }
   ],
   "source": [
    "# your code here\n",
    "# {ids} can contain up to 100 semicolon delimited ids.\n",
    "# But when I put the semicolon it says invalid syntax\n",
    "answerById = SITE.fetch('answers', ids=[6784])\n",
    "answerById\n",
    "\n",
    "print(f\"The answer replies this question: https://stackoverflow.com/questions/{answerById['items'][0]['question_id']}\")"
   ]
  },
  {
   "cell_type": "code",
   "execution_count": 6,
   "metadata": {},
   "outputs": [
    {
     "data": {
      "text/plain": [
       "{'backoff': 0,\n",
       " 'has_more': False,\n",
       " 'page': 1,\n",
       " 'quota_max': 300,\n",
       " 'quota_remaining': 300,\n",
       " 'total': 0,\n",
       " 'items': []}"
      ]
     },
     "execution_count": 6,
     "metadata": {},
     "output_type": "execute_result"
    }
   ],
   "source": [
    "answerById = SITE.fetch('answers', ids=[6473])\n",
    "answerById"
   ]
  },
  {
   "cell_type": "code",
   "execution_count": 7,
   "metadata": {},
   "outputs": [
    {
     "data": {
      "text/plain": [
       "{'items': [{'owner': {'reputation': 28695,\n",
       "    'user_id': 758,\n",
       "    'user_type': 'registered',\n",
       "    'accept_rate': 77,\n",
       "    'profile_image': 'https://www.gravatar.com/avatar/0b4adc19284ed0751844d610555dc6b2?s=128&d=identicon&r=PG',\n",
       "    'display_name': 'Mark Renouf',\n",
       "    'link': 'https://stackoverflow.com/users/758/mark-renouf'},\n",
       "   'is_accepted': False,\n",
       "   'score': 0,\n",
       "   'last_activity_date': 1218291583,\n",
       "   'creation_date': 1218291583,\n",
       "   'answer_id': 6784,\n",
       "   'question_id': 6778}],\n",
       " 'has_more': False,\n",
       " 'quota_max': 300,\n",
       " 'quota_remaining': 199}"
      ]
     },
     "execution_count": 7,
     "metadata": {},
     "output_type": "execute_result"
    }
   ],
   "source": [
    "# Using their default endpoint without StackAPI\n",
    "req = requests.get('https://api.stackexchange.com/2.2/answers/6784;6473?order=desc&sort=activity&site=stackoverflow')\n",
    "req.json()"
   ]
  }
 ],
 "metadata": {
  "kernelspec": {
   "display_name": "Python 3",
   "language": "python",
   "name": "python3"
  },
  "language_info": {
   "codemirror_mode": {
    "name": "ipython",
    "version": 3
   },
   "file_extension": ".py",
   "mimetype": "text/x-python",
   "name": "python",
   "nbconvert_exporter": "python",
   "pygments_lexer": "ipython3",
   "version": "3.7.6"
  }
 },
 "nbformat": 4,
 "nbformat_minor": 2
}
